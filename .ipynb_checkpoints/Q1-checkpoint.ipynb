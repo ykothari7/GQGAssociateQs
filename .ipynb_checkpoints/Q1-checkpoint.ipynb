{
 "cells": [
  {
   "cell_type": "code",
   "execution_count": 1,
   "id": "8ac45e33-7dce-424e-bcc4-58873bea8845",
   "metadata": {},
   "outputs": [
    {
     "ename": "NameError",
     "evalue": "name 'random' is not defined",
     "output_type": "error",
     "traceback": [
      "\u001b[0;31m---------------------------------------------------------------------------\u001b[0m",
      "\u001b[0;31mNameError\u001b[0m                                 Traceback (most recent call last)",
      "Cell \u001b[0;32mIn[1], line 46\u001b[0m\n\u001b[1;32m     43\u001b[0m     \u001b[38;5;28;01mreturn\u001b[39;00m win_ratio\n\u001b[1;32m     45\u001b[0m \u001b[38;5;66;03m# Simulation results\u001b[39;00m\n\u001b[0;32m---> 46\u001b[0m switch_win_ratio \u001b[38;5;241m=\u001b[39m \u001b[43msimulate_strategy\u001b[49m\u001b[43m(\u001b[49m\u001b[38;5;28;43;01mTrue\u001b[39;49;00m\u001b[43m)\u001b[49m\n\u001b[1;32m     47\u001b[0m stay_win_ratio \u001b[38;5;241m=\u001b[39m simulate_strategy(\u001b[38;5;28;01mFalse\u001b[39;00m)\n\u001b[1;32m     49\u001b[0m \u001b[38;5;28mprint\u001b[39m(\u001b[38;5;124m\"\u001b[39m\u001b[38;5;124mWinning ratio when switching:\u001b[39m\u001b[38;5;124m\"\u001b[39m, switch_win_ratio)\n",
      "Cell \u001b[0;32mIn[1], line 41\u001b[0m, in \u001b[0;36msimulate_strategy\u001b[0;34m(switch_strategy, trials)\u001b[0m\n\u001b[1;32m     39\u001b[0m player \u001b[38;5;241m=\u001b[39m Player(switch_strategy)\n\u001b[1;32m     40\u001b[0m game \u001b[38;5;241m=\u001b[39m Game(player)\n\u001b[0;32m---> 41\u001b[0m results \u001b[38;5;241m=\u001b[39m [game\u001b[38;5;241m.\u001b[39mplay_game() \u001b[38;5;28;01mfor\u001b[39;00m _ \u001b[38;5;129;01min\u001b[39;00m \u001b[38;5;28mrange\u001b[39m(trials)]\n\u001b[1;32m     42\u001b[0m win_ratio \u001b[38;5;241m=\u001b[39m \u001b[38;5;28msum\u001b[39m(results) \u001b[38;5;241m/\u001b[39m \u001b[38;5;28mlen\u001b[39m(results)\n\u001b[1;32m     43\u001b[0m \u001b[38;5;28;01mreturn\u001b[39;00m win_ratio\n",
      "Cell \u001b[0;32mIn[1], line 41\u001b[0m, in \u001b[0;36m<listcomp>\u001b[0;34m(.0)\u001b[0m\n\u001b[1;32m     39\u001b[0m player \u001b[38;5;241m=\u001b[39m Player(switch_strategy)\n\u001b[1;32m     40\u001b[0m game \u001b[38;5;241m=\u001b[39m Game(player)\n\u001b[0;32m---> 41\u001b[0m results \u001b[38;5;241m=\u001b[39m [\u001b[43mgame\u001b[49m\u001b[38;5;241;43m.\u001b[39;49m\u001b[43mplay_game\u001b[49m\u001b[43m(\u001b[49m\u001b[43m)\u001b[49m \u001b[38;5;28;01mfor\u001b[39;00m _ \u001b[38;5;129;01min\u001b[39;00m \u001b[38;5;28mrange\u001b[39m(trials)]\n\u001b[1;32m     42\u001b[0m win_ratio \u001b[38;5;241m=\u001b[39m \u001b[38;5;28msum\u001b[39m(results) \u001b[38;5;241m/\u001b[39m \u001b[38;5;28mlen\u001b[39m(results)\n\u001b[1;32m     43\u001b[0m \u001b[38;5;28;01mreturn\u001b[39;00m win_ratio\n",
      "Cell \u001b[0;32mIn[1], line 30\u001b[0m, in \u001b[0;36mGame.play_game\u001b[0;34m(self)\u001b[0m\n\u001b[1;32m     29\u001b[0m \u001b[38;5;28;01mdef\u001b[39;00m \u001b[38;5;21mplay_game\u001b[39m(\u001b[38;5;28mself\u001b[39m):\n\u001b[0;32m---> 30\u001b[0m     \u001b[38;5;28;43mself\u001b[39;49m\u001b[38;5;241;43m.\u001b[39;49m\u001b[43msetup_game\u001b[49m\u001b[43m(\u001b[49m\u001b[43m)\u001b[49m\n\u001b[1;32m     31\u001b[0m     \u001b[38;5;28mself\u001b[39m\u001b[38;5;241m.\u001b[39mreveal_goat()\n\u001b[1;32m     32\u001b[0m     \u001b[38;5;28;01mif\u001b[39;00m \u001b[38;5;28mself\u001b[39m\u001b[38;5;241m.\u001b[39mplayer\u001b[38;5;241m.\u001b[39mdecide_to_switch():\n",
      "Cell \u001b[0;32mIn[1], line 21\u001b[0m, in \u001b[0;36mGame.setup_game\u001b[0;34m(self)\u001b[0m\n\u001b[1;32m     20\u001b[0m \u001b[38;5;28;01mdef\u001b[39;00m \u001b[38;5;21msetup_game\u001b[39m(\u001b[38;5;28mself\u001b[39m):\n\u001b[0;32m---> 21\u001b[0m     \u001b[38;5;28mself\u001b[39m\u001b[38;5;241m.\u001b[39mprize_door \u001b[38;5;241m=\u001b[39m \u001b[43mrandom\u001b[49m\u001b[38;5;241m.\u001b[39mchoice([\u001b[38;5;241m1\u001b[39m, \u001b[38;5;241m2\u001b[39m, \u001b[38;5;241m3\u001b[39m])\n\u001b[1;32m     22\u001b[0m     \u001b[38;5;28mself\u001b[39m\u001b[38;5;241m.\u001b[39mplayer_choice \u001b[38;5;241m=\u001b[39m \u001b[38;5;28mself\u001b[39m\u001b[38;5;241m.\u001b[39mplayer\u001b[38;5;241m.\u001b[39mchoose_door()\n",
      "\u001b[0;31mNameError\u001b[0m: name 'random' is not defined"
     ]
    }
   ],
   "source": [
    "import random\n",
    "\n",
    "class Player:\n",
    "    def __init__(self, switch_strategy=True):\n",
    "        self.switch_strategy = switch_strategy  # True if player switches, False if stays\n",
    "\n",
    "    def choose_door(self):\n",
    "        # Randomly pick one of the doors\n",
    "        return random.choice([1, 2, 3])\n",
    "\n",
    "    def decide_to_switch(self):\n",
    "        # Decide whether to switch based on the strategy set\n",
    "        return self.switch_strategy\n",
    "\n",
    "class Game:\n",
    "    def __init__(self, player):\n",
    "        self.player = player\n",
    "        self.prize_door = None\n",
    "        self.player_choice = None\n",
    "        self.opened_door = None\n",
    "\n",
    "    def setup_game(self):\n",
    "        self.prize_door = random.choice([1, 2, 3])\n",
    "        self.player_choice = self.player.choose_door()\n",
    "\n",
    "    def reveal_goat(self):\n",
    "        # Choose a door to open that is not the prize door or the player's choice\n",
    "        possible_doors = [d for d in [1, 2, 3] if d != self.player_choice and d != self.prize_door]\n",
    "        self.opened_door = random.choice(possible_doors)\n",
    "\n",
    "    def play_game(self):\n",
    "        self.setup_game()\n",
    "        self.reveal_goat()\n",
    "        if self.player.decide_to_switch():\n",
    "            final_choice = next(d for d in [1, 2, 3] if d not in [self.player_choice, self.opened_door])\n",
    "        else:\n",
    "            final_choice = self.player_choice\n",
    "        return final_choice == self.prize_door\n",
    "        \n",
    "def simulate_strategy(switch_strategy, trials=10000):\n",
    "    player = Player(switch_strategy)\n",
    "    game = Game(player)\n",
    "    results = [game.play_game() for _ in range(trials)]\n",
    "    win_ratio = sum(results) / len(results)\n",
    "    return win_ratio\n",
    "\n",
    "# Simulation results\n",
    "switch_win_ratio = simulate_strategy(True)\n",
    "stay_win_ratio = simulate_strategy(False)\n",
    "\n",
    "print(\"Winning ratio when switching:\", switch_win_ratio)\n",
    "print(\"Winning ratio when staying:\", stay_win_ratio)\n"
   ]
  },
  {
   "cell_type": "code",
   "execution_count": null,
   "id": "2e68f59d-1859-4ca1-b49c-c81ab29d0121",
   "metadata": {},
   "outputs": [],
   "source": []
  }
 ],
 "metadata": {
  "kernelspec": {
   "display_name": "Python 3 (ipykernel)",
   "language": "python",
   "name": "python3"
  },
  "language_info": {
   "codemirror_mode": {
    "name": "ipython",
    "version": 3
   },
   "file_extension": ".py",
   "mimetype": "text/x-python",
   "name": "python",
   "nbconvert_exporter": "python",
   "pygments_lexer": "ipython3",
   "version": "3.9.16"
  }
 },
 "nbformat": 4,
 "nbformat_minor": 5
}
