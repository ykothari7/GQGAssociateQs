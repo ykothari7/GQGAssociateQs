{
 "cells": [
  {
   "cell_type": "code",
   "execution_count": 1,
   "id": "8ac45e33-7dce-424e-bcc4-58873bea8845",
   "metadata": {},
   "outputs": [
    {
     "name": "stdout",
     "output_type": "stream",
     "text": [
      "Winning ratio when switching: 0.659\n",
      "Winning ratio when staying: 0.3348\n"
     ]
    }
   ],
   "source": [
    "import random\n",
    "\n",
    "class Player:\n",
    "    def __init__(self, switch_strategy=True):\n",
    "        self.switch_strategy = switch_strategy  # True if player switches, False if stays\n",
    "\n",
    "    def choose_door(self):\n",
    "        # Randomly pick one of the doors\n",
    "        return random.choice([1, 2, 3])\n",
    "\n",
    "    def decide_to_switch(self):\n",
    "        # Decide whether to switch based on the strategy set\n",
    "        return self.switch_strategy\n",
    "\n",
    "class Game:\n",
    "    def __init__(self, player):\n",
    "        self.player = player\n",
    "        self.prize_door = None\n",
    "        self.player_choice = None\n",
    "        self.opened_door = None\n",
    "\n",
    "    def setup_game(self):\n",
    "        self.prize_door = random.choice([1, 2, 3])\n",
    "        self.player_choice = self.player.choose_door()\n",
    "\n",
    "    def reveal_goat(self):\n",
    "        # Choose a door to open that is not the prize door or the player's choice\n",
    "        possible_doors = [d for d in [1, 2, 3] if d != self.player_choice and d != self.prize_door]\n",
    "        self.opened_door = random.choice(possible_doors)\n",
    "\n",
    "    def play_game(self):\n",
    "        self.setup_game()\n",
    "        self.reveal_goat()\n",
    "        if self.player.decide_to_switch():\n",
    "            final_choice = next(d for d in [1, 2, 3] if d not in [self.player_choice, self.opened_door])\n",
    "        else:\n",
    "            final_choice = self.player_choice\n",
    "        return final_choice == self.prize_door\n",
    "        \n",
    "def simulate_strategy(switch_strategy, trials=10000):\n",
    "    player = Player(switch_strategy)\n",
    "    game = Game(player)\n",
    "    results = [game.play_game() for _ in range(trials)]\n",
    "    win_ratio = sum(results) / len(results)\n",
    "    return win_ratio\n",
    "\n",
    "# Simulation results\n",
    "switch_win_ratio = simulate_strategy(True)\n",
    "stay_win_ratio = simulate_strategy(False)\n",
    "\n",
    "print(\"Winning ratio when switching:\", switch_win_ratio)\n",
    "print(\"Winning ratio when staying:\", stay_win_ratio)\n"
   ]
  },
  {
   "cell_type": "code",
   "execution_count": null,
   "id": "2e68f59d-1859-4ca1-b49c-c81ab29d0121",
   "metadata": {},
   "outputs": [],
   "source": []
  }
 ],
 "metadata": {
  "kernelspec": {
   "display_name": "Python 3 (ipykernel)",
   "language": "python",
   "name": "python3"
  },
  "language_info": {
   "codemirror_mode": {
    "name": "ipython",
    "version": 3
   },
   "file_extension": ".py",
   "mimetype": "text/x-python",
   "name": "python",
   "nbconvert_exporter": "python",
   "pygments_lexer": "ipython3",
   "version": "3.9.16"
  }
 },
 "nbformat": 4,
 "nbformat_minor": 5
}
